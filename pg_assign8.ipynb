{
 "cells": [
  {
   "cell_type": "code",
   "execution_count": 1,
   "metadata": {},
   "outputs": [
    {
     "name": "stdout",
     "output_type": "stream",
     "text": [
      "Enter row size:2\n",
      "Enter column size:2\n",
      "Enter values into array 1:\n",
      "1\n",
      "2\n",
      "3\n",
      "4\n",
      "Enter values into array 2:\n",
      "5\n",
      "6\n",
      "7\n",
      "8\n",
      "sum of 2 arrays:\n",
      "[[ 6.  8.]\n",
      " [10. 12.]]\n"
     ]
    }
   ],
   "source": [
    "# Add Matrices\n",
    "import numpy as np\n",
    "m=int(input(\"Enter row size:\"))\n",
    "n=int(input(\"Enter column size:\"))\n",
    "a=np.ones((m,n))\n",
    "b=np.ones((m,n))\n",
    "print(\"Enter values into array 1:\")\n",
    "for i in range(m):\n",
    "    for j in range(n):\n",
    "        k=int(input())\n",
    "        a[i][j]=k\n",
    "print(\"Enter values into array 2:\")\n",
    "for i in range(m):\n",
    "    for j in range(n):\n",
    "        k=int(input())\n",
    "        b[i][j]=k\n",
    "print(\"sum of 2 arrays:\")\n",
    "print(np.add(a,b))\n"
   ]
  },
  {
   "cell_type": "code",
   "execution_count": 3,
   "metadata": {},
   "outputs": [
    {
     "name": "stdout",
     "output_type": "stream",
     "text": [
      "Enter row size for array 1:1\n",
      "Enter column size for array 1:2\n",
      "Enter row size for array 2:2\n",
      "Enter column size for array 2:1\n",
      "Enter values into array 1:\n",
      "1\n",
      "2\n",
      "Enter values into array 2:\n",
      "3\n",
      "4\n",
      "Multiplication of 2 arrays:\n",
      "[[11.]]\n"
     ]
    }
   ],
   "source": [
    "# Multiply Matrices\n",
    "import numpy as np\n",
    "m1=int(input(\"Enter row size for array 1:\"))\n",
    "n1=int(input(\"Enter column size for array 1:\"))\n",
    "m2=int(input(\"Enter row size for array 2:\"))\n",
    "n2=int(input(\"Enter column size for array 2:\"))\n",
    "a=np.ones((m1,n1))\n",
    "b=np.ones((m2,n2))\n",
    "if n1!=m2:\n",
    "    print(\"Please make sure that column size of 1st array and row size of second array need to be equal to perform array multiplication\")\n",
    "else:\n",
    "    print(\"Enter values into array 1:\")\n",
    "    for i in range(m1):\n",
    "        for j in range(n1):\n",
    "            k=int(input())\n",
    "            a[i][j]=k\n",
    "    print(\"Enter values into array 2:\")\n",
    "    for i in range(m2):\n",
    "        for j in range(n2):\n",
    "            k=int(input())\n",
    "            b[i][j]=k\n",
    "    print(\"Multiplication of 2 arrays:\")\n",
    "    print(np.dot(a,b))\n"
   ]
  },
  {
   "cell_type": "code",
   "execution_count": 4,
   "metadata": {},
   "outputs": [
    {
     "name": "stdout",
     "output_type": "stream",
     "text": [
      "srav*(&^ya\n",
      "sravya\n"
     ]
    }
   ],
   "source": [
    "# Replace Punctuations\n",
    "s=input()\n",
    "res=''\n",
    "n='@_!#$%^&*()<>?/\\|}{~:'\n",
    "for i in s:\n",
    "    if i not in n :\n",
    "        res+=i\n",
    "print(res)\n"
   ]
  },
  {
   "cell_type": "code",
   "execution_count": 5,
   "metadata": {},
   "outputs": [
    {
     "name": "stdout",
     "output_type": "stream",
     "text": [
      "Enter a sentence:i am sravya\n",
      "i am aarsvy\n"
     ]
    }
   ],
   "source": [
    "# Sort Sentence\n",
    "s=input(\"Enter a sentence:\")\n",
    "l=s.split(\" \")\n",
    "for i in range(len(l)):\n",
    "    l[i]=''.join(sorted(l[i]))\n",
    "res=' '.join(l)\n",
    "print(res)\n"
   ]
  },
  {
   "cell_type": "code",
   "execution_count": 6,
   "metadata": {},
   "outputs": [
    {
     "name": "stdout",
     "output_type": "stream",
     "text": [
      "Enter row size:2\n",
      "Enter column size:2\n",
      "Enter values into array:\n",
      "1\n",
      "2\n",
      "3\n",
      "4\n",
      "Before transpose:\n",
      "[[1. 2.]\n",
      " [3. 4.]]\n",
      "After transpose:\n",
      "[[1. 3.]\n",
      " [2. 4.]]\n"
     ]
    }
   ],
   "source": [
    "# Transpose of a matrix\n",
    "import numpy as np\n",
    "m=int(input(\"Enter row size:\"))\n",
    "n=int(input(\"Enter column size:\"))\n",
    "a=np.ones((m,n))\n",
    "print(\"Enter values into array:\")\n",
    "for i in range(m):\n",
    "    for j in range(n):\n",
    "        k=int(input())\n",
    "        a[i][j]=k\n",
    "print(\"Before transpose:\")\n",
    "print(a)\n",
    "b=np.ones((m,n))\n",
    "for i in range(m):\n",
    "    for j in range(n):\n",
    "        b[i][j]=a[j][i]\n",
    "print(\"After transpose:\")\n",
    "print(b)\n"
   ]
  },
  {
   "cell_type": "code",
   "execution_count": null,
   "metadata": {},
   "outputs": [],
   "source": []
  }
 ],
 "metadata": {
  "kernelspec": {
   "display_name": "Python 3",
   "language": "python",
   "name": "python3"
  },
  "language_info": {
   "codemirror_mode": {
    "name": "ipython",
    "version": 3
   },
   "file_extension": ".py",
   "mimetype": "text/x-python",
   "name": "python",
   "nbconvert_exporter": "python",
   "pygments_lexer": "ipython3",
   "version": "3.8.5"
  }
 },
 "nbformat": 4,
 "nbformat_minor": 4
}
