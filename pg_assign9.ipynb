{
 "cells": [
  {
   "cell_type": "code",
   "execution_count": 1,
   "metadata": {},
   "outputs": [
    {
     "name": "stdout",
     "output_type": "stream",
     "text": [
      "1\n",
      "2\n",
      "3\n",
      "4\n",
      "5\n",
      "6\n",
      "7\n",
      "8\n",
      "9\n",
      "89\n"
     ]
    }
   ],
   "source": [
    "# Dissarium 1 to 100\n",
    "for i in range(1,101):\n",
    "    temp=i\n",
    "    k=str(i)\n",
    "    val=0\n",
    "    for i in range(len(k)):\n",
    "        val+=int(k[i])**(i+1)\n",
    "    if val==temp:\n",
    "        print(val)\n"
   ]
  },
  {
   "cell_type": "code",
   "execution_count": 2,
   "metadata": {},
   "outputs": [
    {
     "name": "stdout",
     "output_type": "stream",
     "text": [
      "Enter a number89\n",
      "89  is a disarium number\n"
     ]
    }
   ],
   "source": [
    "# Dissarium Number\n",
    "n=int(input(\"Enter a number\"))\n",
    "res=[]\n",
    "temp=n\n",
    "while temp>0:\n",
    "    rem=temp%10\n",
    "    res.append(rem)\n",
    "    temp=int(temp/10)\n",
    "res=res[::-1]\n",
    "val=0\n",
    "for i in range(len(res)):\n",
    "    val+=res[i]**(i+1)\n",
    "if val==n:\n",
    "    print(n,\" is a disarium number\")\n",
    "else:\n",
    "    print(n, \" is not a disarium number\")\n"
   ]
  },
  {
   "cell_type": "code",
   "execution_count": 3,
   "metadata": {
    "scrolled": true
   },
   "outputs": [
    {
     "name": "stdout",
     "output_type": "stream",
     "text": [
      "12\n",
      "12  is not a happy number\n"
     ]
    }
   ],
   "source": [
    "def CheckHappyNum(n):    \n",
    "    rem = 0\n",
    "    sum = 0\n",
    "          \n",
    "    while(n > 0):    \n",
    "        rem = n%10;    \n",
    "        sum = sum + (rem*rem);    \n",
    "        n = n//10;    \n",
    "    return sum;    \n",
    "        \n",
    "n = int(input())    \n",
    "res = n    \n",
    "     \n",
    "while(res != 1 and res != 4):    \n",
    "    res = CheckHappyNum(res);    \n",
    "     \n",
    "  \n",
    "if res == 1:    \n",
    "    print(n , \" is a happy number\")    \n",
    "elif res == 4:    \n",
    "    print(n , \" is not a happy number\")"
   ]
  },
  {
   "cell_type": "code",
   "execution_count": 5,
   "metadata": {},
   "outputs": [
    {
     "name": "stdout",
     "output_type": "stream",
     "text": [
      "1\n",
      "7\n",
      "10\n",
      "13\n",
      "19\n",
      "23\n",
      "28\n",
      "31\n",
      "32\n",
      "44\n",
      "49\n",
      "68\n",
      "70\n",
      "79\n",
      "82\n",
      "86\n",
      "91\n",
      "94\n",
      "97\n",
      "100\n"
     ]
    }
   ],
   "source": [
    "def CheckHappyNum(n):    \n",
    "    rem = 0\n",
    "    sum = 0\n",
    "          \n",
    "    while(n > 0):    \n",
    "        rem = n%10;    \n",
    "        sum = sum + (rem*rem);    \n",
    "        n = n//10;    \n",
    "    return sum;    \n",
    "              \n",
    "for i in range(1,101): \n",
    "    res=i\n",
    "    while(res != 1 and res != 4):    \n",
    "        res = CheckHappyNum(res);    \n",
    "     \n",
    "  \n",
    "    if res == 1:    \n",
    "        print(i)   "
   ]
  },
  {
   "cell_type": "code",
   "execution_count": 7,
   "metadata": {},
   "outputs": [
    {
     "name": "stdout",
     "output_type": "stream",
     "text": [
      "3\n",
      "3  is a harshad number\n"
     ]
    }
   ],
   "source": [
    "# Harshad number\n",
    "n=int(input())\n",
    "temp=n\n",
    "sum=0\n",
    "rem=0\n",
    "while temp>0:\n",
    "    rem=temp%10\n",
    "    sum+=rem\n",
    "    temp=temp//10\n",
    "if n%sum==0:\n",
    "    print(n, \" is a harshad number\")\n",
    "else:\n",
    "    print(n, \" is not a harshad number\")\n",
    "\n",
    "    "
   ]
  },
  {
   "cell_type": "code",
   "execution_count": 15,
   "metadata": {},
   "outputs": [
    {
     "name": "stdout",
     "output_type": "stream",
     "text": [
      "2\n",
      "6\n",
      "12\n",
      "20\n",
      "30\n",
      "42\n",
      "56\n",
      "72\n",
      "90\n"
     ]
    }
   ],
   "source": [
    "import math\n",
    "def checkpronic(n):\n",
    "    j=1\n",
    "    k=int(math.sqrt(n))\n",
    "    while j<=k:\n",
    "        if j*(j+1)==n:\n",
    "           return True\n",
    "        j+=1\n",
    "    return False\n",
    "for i in range(1,101):\n",
    "    res=checkpronic(i)\n",
    "    if res:\n",
    "        print(i)\n",
    "    \n",
    "\n"
   ]
  },
  {
   "cell_type": "code",
   "execution_count": null,
   "metadata": {},
   "outputs": [],
   "source": []
  }
 ],
 "metadata": {
  "kernelspec": {
   "display_name": "Python 3",
   "language": "python",
   "name": "python3"
  },
  "language_info": {
   "codemirror_mode": {
    "name": "ipython",
    "version": 3
   },
   "file_extension": ".py",
   "mimetype": "text/x-python",
   "name": "python",
   "nbconvert_exporter": "python",
   "pygments_lexer": "ipython3",
   "version": "3.8.5"
  }
 },
 "nbformat": 4,
 "nbformat_minor": 4
}
