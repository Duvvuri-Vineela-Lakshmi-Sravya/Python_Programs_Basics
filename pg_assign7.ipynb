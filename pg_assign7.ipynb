{
 "cells": [
  {
   "cell_type": "code",
   "execution_count": 1,
   "metadata": {},
   "outputs": [
    {
     "name": "stdout",
     "output_type": "stream",
     "text": [
      "Enter n value:4\n",
      "Enter values of the array:\n",
      "1\n",
      "2\n",
      "3\n",
      "4\n",
      "How many times do you want to shift:\n",
      "3\n",
      "Left Shift\n",
      "\n",
      "[4, 1, 2, 3]\n"
     ]
    }
   ],
   "source": [
    "# Array Rotation\n",
    "l=[]\n",
    "n=int(input(\"Enter n value:\"))\n",
    "print(\"Enter values of the array:\")\n",
    "for i in range(n):\n",
    "    m=int(input())\n",
    "    l.append(m)\n",
    "n=len(l)\n",
    "b=l\n",
    "print(\"How many times do you want to shift:\")\n",
    "k=int(input())\n",
    "if k%2!=0:\n",
    "    print(\"Left Shift\")\n",
    "    print()\n",
    "    for i in range(k):\n",
    "        c=(l[len(l)-1])\n",
    "        c=list([c])\n",
    "        d=list(l[0:len(l)-1])\n",
    "        a=c+d\n",
    "else:\n",
    "    print(\"Right Shift\")\n",
    "    print()\n",
    "    for i in range(k):\n",
    "        c=(l[0])\n",
    "        c=list([c])\n",
    "        d=list(l[1:len(l)])\n",
    "        a=d+c\n",
    "print(a)\n"
   ]
  },
  {
   "cell_type": "code",
   "execution_count": 2,
   "metadata": {},
   "outputs": [
    {
     "name": "stdout",
     "output_type": "stream",
     "text": [
      "Enter n value:4\n",
      "Enter values of the array:\n",
      "1\n",
      "2\n",
      "3\n",
      "4\n",
      "The largest element of the array is  4\n"
     ]
    }
   ],
   "source": [
    "# Max Element\n",
    "l=[]\n",
    "n=int(input(\"Enter n value:\"))\n",
    "print(\"Enter values of the array:\")\n",
    "for i in range(n):\n",
    "    k=int(input())\n",
    "    l.append(k)\n",
    "print(\"The largest element of the array is \",max(l))\n"
   ]
  },
  {
   "cell_type": "code",
   "execution_count": 3,
   "metadata": {},
   "outputs": [
    {
     "name": "stdout",
     "output_type": "stream",
     "text": [
      "Enter size:3\n",
      "Enter array values:\n",
      "1\n",
      "2\n",
      "3\n",
      "Before appending b array is :  ['2', '3']\n",
      "After appending b array is :  ['2', '3', '1']\n"
     ]
    }
   ],
   "source": [
    "# Split and Append\n",
    "l=[]\n",
    "n=int(input(\"Enter size:\"))\n",
    "print(\"Enter array values:\")\n",
    "for i in range(n):\n",
    "    k=input()\n",
    "    l.append(k)\n",
    "avg=int(n/2)\n",
    "a=l[0:avg]\n",
    "b=l[avg:]\n",
    "print(\"Before appending b array is : \",b)\n",
    "b.extend(a)\n",
    "print(\"After appending b array is : \",b)\n"
   ]
  },
  {
   "cell_type": "code",
   "execution_count": 4,
   "metadata": {},
   "outputs": [
    {
     "name": "stdout",
     "output_type": "stream",
     "text": [
      "Enter n value:3\n",
      "Enter values of the array:\n",
      "1\n",
      "2\n",
      "3\n",
      "The sum of elements is  6\n"
     ]
    }
   ],
   "source": [
    "# Sum of Array\n",
    "l=[]\n",
    "n=int(input(\"Enter n value:\"))\n",
    "print(\"Enter values of the array:\")\n",
    "for i in range(n):\n",
    "    k=int(input())\n",
    "    l.append(k)\n",
    "print(\"The sum of elements is \",sum(l))\n"
   ]
  },
  {
   "cell_type": "code",
   "execution_count": 3,
   "metadata": {},
   "outputs": [
    {
     "name": "stdout",
     "output_type": "stream",
     "text": [
      "Enter n value: 5\n",
      "Enter the values of array: \n",
      "1\n",
      "2\n",
      "4\n",
      "3\n",
      "5\n",
      "The given array is not monotonically increasing.\n"
     ]
    }
   ],
   "source": [
    "#monotic increasing array\n",
    "l=[]\n",
    "n=int(input(\"Enter n value: \"))\n",
    "print(\"Enter the values of array: \")\n",
    "flag=1\n",
    "for i in range(n):\n",
    "    k=int(input())\n",
    "    l.append(k)\n",
    "for i in range(n-1):\n",
    "    if (l[i]>l[i+1]):\n",
    "        flag=0\n",
    "        break\n",
    "if flag==1:\n",
    "    print(\"The given array is monotonically increasing.\")\n",
    "else:\n",
    "    print(\"The given array is not monotonically increasing.\")\n",
    "        \n",
    "    "
   ]
  },
  {
   "cell_type": "code",
   "execution_count": 5,
   "metadata": {},
   "outputs": [
    {
     "name": "stdout",
     "output_type": "stream",
     "text": [
      "Enter n value: 5\n",
      "Enter the values of array: \n",
      "5\n",
      "4\n",
      "3\n",
      "2\n",
      "1\n",
      "The given array is monotonically decreasing.\n"
     ]
    }
   ],
   "source": [
    "#monotic decreasing array\n",
    "l=[]\n",
    "n=int(input(\"Enter n value: \"))\n",
    "print(\"Enter the values of array: \")\n",
    "flag=1\n",
    "for i in range(n):\n",
    "    k=int(input())\n",
    "    l.append(k)\n",
    "for i in range(n-1):\n",
    "    if (l[i]<l[i+1]):\n",
    "        flag=0\n",
    "        break\n",
    "if flag==1:\n",
    "    print(\"The given array is monotonically decreasing.\")\n",
    "else:\n",
    "    print(\"The given array is not monotonically decreasing.\")\n",
    "        \n",
    "    "
   ]
  },
  {
   "cell_type": "code",
   "execution_count": null,
   "metadata": {},
   "outputs": [],
   "source": []
  }
 ],
 "metadata": {
  "kernelspec": {
   "display_name": "Python 3",
   "language": "python",
   "name": "python3"
  },
  "language_info": {
   "codemirror_mode": {
    "name": "ipython",
    "version": 3
   },
   "file_extension": ".py",
   "mimetype": "text/x-python",
   "name": "python",
   "nbconvert_exporter": "python",
   "pygments_lexer": "ipython3",
   "version": "3.8.5"
  }
 },
 "nbformat": 4,
 "nbformat_minor": 4
}
