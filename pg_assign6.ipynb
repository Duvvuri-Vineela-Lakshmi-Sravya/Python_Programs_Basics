{
 "cells": [
  {
   "cell_type": "code",
   "execution_count": 1,
   "metadata": {},
   "outputs": [
    {
     "name": "stdout",
     "output_type": "stream",
     "text": [
      "Enter your height in meters:100\n",
      "Enter your weight in Kgs:80\n",
      "The Body Mass Index is  0.008\n"
     ]
    }
   ],
   "source": [
    "# Body Mass Index\n",
    "height=float(input(\"Enter your height in meters:\"))\n",
    "weight=float(input(\"Enter your weight in Kgs:\"))\n",
    "body_mass_index=weight/(height*height)\n",
    "print(\"The Body Mass Index is \",body_mass_index)\n"
   ]
  },
  {
   "cell_type": "code",
   "execution_count": 2,
   "metadata": {},
   "outputs": [
    {
     "name": "stdout",
     "output_type": "stream",
     "text": [
      "Enter value:12\n",
      "The cube sum of first  12  natural numbers is  6084\n"
     ]
    }
   ],
   "source": [
    "# Cube Sum\n",
    "import math\n",
    "n=int(input(\"Enter value:\"))\n",
    "sum1=0\n",
    "for i in range(1,n+1):\n",
    "    sum1+=int(math.pow(i,3))\n",
    "print(\"The cube sum of first \",n,\" natural numbers is \",sum1)\n"
   ]
  },
  {
   "cell_type": "code",
   "execution_count": 5,
   "metadata": {},
   "outputs": [
    {
     "name": "stdout",
     "output_type": "stream",
     "text": [
      "Enter n value:3\n",
      "Factorial of  3  is  6\n"
     ]
    }
   ],
   "source": [
    "# Factorial\n",
    "def factorial(n):\n",
    "    if n<0:\n",
    "        return -1\n",
    "    if n==1:\n",
    "        return 1 \n",
    "    else :\n",
    "        return n*factorial(n-1)\n",
    "\n",
    "n=int(input(\"Enter n value:\"))\n",
    "res=factorial(n)\n",
    "print(\"Factorial of \",n,\" is \",res)\n"
   ]
  },
  {
   "cell_type": "code",
   "execution_count": 6,
   "metadata": {},
   "outputs": [
    {
     "name": "stdout",
     "output_type": "stream",
     "text": [
      "Enter n value:4\n",
      "Fibanoci sequence:\n",
      "0\n",
      "1\n",
      "1\n",
      "2\n"
     ]
    }
   ],
   "source": [
    "# Fibanoci\n",
    "def fibseq(n):\n",
    "    if n<=1:\n",
    "        return n\n",
    "    else:\n",
    "        return fibseq(n-1)+fibseq(n-2)\n",
    "\n",
    "n=int(input(\"Enter n value:\"))\n",
    "if n<=0:\n",
    "    print(\"Enter valid number that is greater than 0\")\n",
    "else:\n",
    "    print(\"Fibanoci sequence:\")\n",
    "    for i in range(n):\n",
    "        print(fibseq(i))\n"
   ]
  },
  {
   "cell_type": "code",
   "execution_count": 7,
   "metadata": {},
   "outputs": [
    {
     "name": "stdout",
     "output_type": "stream",
     "text": [
      "Enter value:3\n",
      "1.0986122886681098\n"
     ]
    }
   ],
   "source": [
    "# Natural Logarithm\n",
    "import math\n",
    "n=int(input(\"Enter value:\"))\n",
    "print(math.log(n))\n"
   ]
  },
  {
   "cell_type": "code",
   "execution_count": null,
   "metadata": {},
   "outputs": [],
   "source": []
  }
 ],
 "metadata": {
  "kernelspec": {
   "display_name": "Python 3",
   "language": "python",
   "name": "python3"
  },
  "language_info": {
   "codemirror_mode": {
    "name": "ipython",
    "version": 3
   },
   "file_extension": ".py",
   "mimetype": "text/x-python",
   "name": "python",
   "nbconvert_exporter": "python",
   "pygments_lexer": "ipython3",
   "version": "3.8.5"
  }
 },
 "nbformat": 4,
 "nbformat_minor": 4
}
