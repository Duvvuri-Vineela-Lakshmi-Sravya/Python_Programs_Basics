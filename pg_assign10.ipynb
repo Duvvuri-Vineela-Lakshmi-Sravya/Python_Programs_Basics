{
 "cells": [
  {
   "cell_type": "code",
   "execution_count": 2,
   "metadata": {},
   "outputs": [
    {
     "name": "stdout",
     "output_type": "stream",
     "text": [
      "3\n",
      "1\n",
      "2\n",
      "3\n",
      "Sum of list elements is  6\n"
     ]
    }
   ],
   "source": [
    "# sum of list elements\n",
    "n=int(input())\n",
    "l=[]\n",
    "for i in range(n):\n",
    "    k=int(input())\n",
    "    l.append(k)\n",
    "print(\"Sum of list elements is \",sum(l))"
   ]
  },
  {
   "cell_type": "code",
   "execution_count": 4,
   "metadata": {},
   "outputs": [
    {
     "name": "stdout",
     "output_type": "stream",
     "text": [
      "3\n",
      "1\n",
      "2\n",
      "3\n",
      "Multiplication of list elements is  6\n"
     ]
    }
   ],
   "source": [
    "# Multiplication of list elements\n",
    "n=int(input())\n",
    "l=[]\n",
    "res=1\n",
    "for i in range(n):\n",
    "    k=int(input())\n",
    "    l.append(k)\n",
    "for i in l:\n",
    "    res*=i\n",
    "print(\"Multiplication of list elements is \",res)"
   ]
  },
  {
   "cell_type": "code",
   "execution_count": 6,
   "metadata": {},
   "outputs": [
    {
     "name": "stdout",
     "output_type": "stream",
     "text": [
      "3\n",
      "1\n",
      "2\n",
      "3\n",
      "Minimum element in list is  1\n"
     ]
    }
   ],
   "source": [
    "# Minimum of list elements\n",
    "n=int(input())\n",
    "l=[]\n",
    "for i in range(n):\n",
    "    k=int(input())\n",
    "    l.append(k)\n",
    "print(\"Minimum element in list is \",min(l))"
   ]
  },
  {
   "cell_type": "code",
   "execution_count": 7,
   "metadata": {},
   "outputs": [
    {
     "name": "stdout",
     "output_type": "stream",
     "text": [
      "3\n",
      "1\n",
      "23\n",
      "3\n",
      "Maximum element in list is  23\n"
     ]
    }
   ],
   "source": [
    "# Maximum of list elements\n",
    "n=int(input())\n",
    "l=[]\n",
    "for i in range(n):\n",
    "    k=int(input())\n",
    "    l.append(k)\n",
    "print(\"Maximum element in list is \",max(l))"
   ]
  },
  {
   "cell_type": "code",
   "execution_count": 12,
   "metadata": {},
   "outputs": [
    {
     "name": "stdout",
     "output_type": "stream",
     "text": [
      "3\n",
      "1\n",
      "2\n",
      "3\n",
      "Second Maximum element in list is  2\n"
     ]
    }
   ],
   "source": [
    "# Second Maximum of list elements\n",
    "n=int(input())\n",
    "l=[]\n",
    "for i in range(n):\n",
    "    k=int(input())\n",
    "    l.append(k)\n",
    "l.sort()\n",
    "print(\"Second Maximum element in list is \",l[-2])"
   ]
  },
  {
   "cell_type": "code",
   "execution_count": 15,
   "metadata": {},
   "outputs": [
    {
     "name": "stdout",
     "output_type": "stream",
     "text": [
      "Size of list:4\n",
      "enter which largest element you want to find:2\n",
      "1\n",
      "2\n",
      "3\n",
      "4\n",
      "Expected Maximum element in list is  3\n"
     ]
    }
   ],
   "source": [
    "# Nth Maximum of list elements\n",
    "n=int(input(\"Size of list:\"))\n",
    "nlar=int(input(\"enter which largest element you want to find:\"))\n",
    "l=[]\n",
    "for i in range(n):\n",
    "    k=int(input())\n",
    "    l.append(k)\n",
    "l.sort()\n",
    "if nlar<=n:\n",
    "    print(\"Expected Maximum element in list is \",l[-nlar])\n",
    "else:\n",
    "    print(\"Enter the nlar value within the range\")"
   ]
  },
  {
   "cell_type": "code",
   "execution_count": 17,
   "metadata": {},
   "outputs": [
    {
     "name": "stdout",
     "output_type": "stream",
     "text": [
      "Size of list:4\n",
      "1\n",
      "2\n",
      "3\n",
      "4\n",
      "Even numbers in list:\n",
      "2\n",
      "4\n"
     ]
    }
   ],
   "source": [
    "# Even numbers in  list\n",
    "n=int(input(\"Size of list:\"))\n",
    "l=[]\n",
    "for i in range(n):\n",
    "    k=int(input())\n",
    "    l.append(k)\n",
    "print(\"Even numbers in list:\")\n",
    "for i in l:\n",
    "    if i%2==0:\n",
    "        print(i)"
   ]
  },
  {
   "cell_type": "code",
   "execution_count": 18,
   "metadata": {},
   "outputs": [
    {
     "name": "stdout",
     "output_type": "stream",
     "text": [
      "Size of list:4\n",
      "1\n",
      "2\n",
      "3\n",
      "4\n",
      "Odd numbers in list:\n",
      "1\n",
      "3\n"
     ]
    }
   ],
   "source": [
    "# odd numbers in list\n",
    "n=int(input(\"Size of list:\"))\n",
    "l=[]\n",
    "for i in range(n):\n",
    "    k=int(input())\n",
    "    l.append(k)\n",
    "print(\"Odd numbers in list:\")\n",
    "for i in l:\n",
    "    if i%2!=0:\n",
    "        print(i)"
   ]
  },
  {
   "cell_type": "code",
   "execution_count": 22,
   "metadata": {},
   "outputs": [
    {
     "name": "stdout",
     "output_type": "stream",
     "text": [
      "2\n",
      "enter student details\n",
      "sravya\n",
      "1\n",
      "duvvuri\n",
      "2\n",
      "Before removal: [['sravya', 1], ['duvvuri', 2], []]\n",
      "After removal: [['sravya', 1], ['duvvuri', 2]]\n"
     ]
    }
   ],
   "source": [
    "n=int(input())\n",
    "l=[]\n",
    "print(\"enter student details\")\n",
    "for i in range(n):\n",
    "    name=input()\n",
    "    roll=int(input())\n",
    "    l.append([name,roll])\n",
    "l.append([])\n",
    "print(\"Before removal:\",l)\n",
    "for i in l:\n",
    "    if len(i)==0:\n",
    "        l.remove(i)\n",
    "print(\"After removal:\",l)"
   ]
  },
  {
   "cell_type": "code",
   "execution_count": 25,
   "metadata": {},
   "outputs": [
    {
     "name": "stdout",
     "output_type": "stream",
     "text": [
      "A= [1, 2, 3]\n",
      "B= [1, 2, 3]\n",
      "C= [1, 2, 3]\n",
      "D= [1, 2, 3]\n"
     ]
    }
   ],
   "source": [
    "l=[1,2,3]\n",
    "# normal copy\n",
    "a=l\n",
    "print(\"A=\",a)\n",
    "# copy using constructor\n",
    "b=list(l)\n",
    "print(\"B=\",b)\n",
    "# shallow copy\n",
    "c=l.copy()\n",
    "print(\"C=\",c)\n",
    "# copy using slicing\n",
    "D=l[:]\n",
    "print(\"D=\",D)"
   ]
  },
  {
   "cell_type": "code",
   "execution_count": 26,
   "metadata": {},
   "outputs": [
    {
     "name": "stdout",
     "output_type": "stream",
     "text": [
      "Size of list:4\n",
      "1\n",
      "1\n",
      "2\n",
      "3\n",
      "Enter element to find occurance\n",
      "1\n",
      "The element  1  occurred  2  times\n"
     ]
    }
   ],
   "source": [
    "n=int(input(\"Size of list:\"))\n",
    "l=[]\n",
    "for i in range(n):\n",
    "    k=int(input())\n",
    "    l.append(k)\n",
    "print(\"Enter element to find occurance\")\n",
    "find=int(input())\n",
    "if find in l:\n",
    "    print(\"The element \",find,\" occurred \",l.count(find),\" times\")"
   ]
  },
  {
   "cell_type": "code",
   "execution_count": null,
   "metadata": {},
   "outputs": [],
   "source": []
  }
 ],
 "metadata": {
  "kernelspec": {
   "display_name": "Python 3",
   "language": "python",
   "name": "python3"
  },
  "language_info": {
   "codemirror_mode": {
    "name": "ipython",
    "version": 3
   },
   "file_extension": ".py",
   "mimetype": "text/x-python",
   "name": "python",
   "nbconvert_exporter": "python",
   "pygments_lexer": "ipython3",
   "version": "3.8.5"
  }
 },
 "nbformat": 4,
 "nbformat_minor": 4
}
